{
 "cells": [
  {
   "cell_type": "code",
   "execution_count": 1,
   "id": "f25298dc",
   "metadata": {},
   "outputs": [
    {
     "name": "stdout",
     "output_type": "stream",
     "text": [
      "NumPy está instalado correctamente.\n",
      "Pandas está instalado correctamente.\n"
     ]
    }
   ],
   "source": [
    "try:\n",
    "    import numpy as np\n",
    "    # Prueba simple: Crear un array\n",
    "    test_array = np.array([1, 2, 3])\n",
    "    print(\"NumPy está instalado correctamente.\")\n",
    "except ImportError:\n",
    "    print(\"NumPy no está instalado. Por favor, instala usando: pip install numpy\")\n",
    "except:\n",
    "    print(\"NumPy está instalado pero no está funcionando adecuadamente.\")\n",
    "\n",
    "try:\n",
    "    import pandas as pd\n",
    "    # Prueba simple: Crear un DataFrame\n",
    "    test_df = pd.DataFrame({'Columna1': [1, 2], 'Columna2': [3, 4]})\n",
    "    print(\"Pandas está instalado correctamente.\")\n",
    "except ImportError:\n",
    "    print(\"Pandas no está instalado. Por favor, instala usando: pip install pandas\")\n",
    "except:\n",
    "    print(\"Pandas está instalado pero no está funcionando adecuadamente.\")"
   ]
  },
  {
   "cell_type": "code",
   "execution_count": 2,
   "id": "d0ecd4c2",
   "metadata": {},
   "outputs": [],
   "source": [
    "import numpy as np"
   ]
  }
 ],
 "metadata": {
  "kernelspec": {
   "display_name": "base",
   "language": "python",
   "name": "python3"
  },
  "language_info": {
   "codemirror_mode": {
    "name": "ipython",
    "version": 3
   },
   "file_extension": ".py",
   "mimetype": "text/x-python",
   "name": "python",
   "nbconvert_exporter": "python",
   "pygments_lexer": "ipython3",
   "version": "3.12.7"
  }
 },
 "nbformat": 4,
 "nbformat_minor": 5
}
