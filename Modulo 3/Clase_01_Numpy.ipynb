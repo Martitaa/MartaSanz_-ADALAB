{
 "cells": [
  {
   "cell_type": "markdown",
   "id": "dad5e8a2",
   "metadata": {},
   "source": [
    "# Introducción a NumPy\n",
    "\n",
    "¿Qué es NumPy y para qué sirve?\n",
    "\n",
    "- NumPy (Numerical Python) es una biblioteca fundamental en Python para trabajar con datos numéricos. \n",
    "- Permite crear y manipular arrays multidimensionales, que son estructuras similares a listas pero mucho más eficientes para cálculos matemáticos y científicos.\n",
    "\n",
    "¿Por qué enseñamos NumPy en este curso?\n",
    "\n",
    "- Es esencial para análisis de datos, ya que muchas otras bibliotecas populares como Pandas, SciPy y TensorFlow se construyen sobre NumPy.\n",
    "- Facilita operaciones complejas como álgebra lineal, estadística y transformaciones de datos.\n",
    "- En resumen, NumPy es la base para trabajar con datos numéricos en Python, y su aprendizaje es clave para progresar en el análisis de datos.\n",
    "\n",
    "La principal característica de NumPy es el objeto de matriz, llamado array o ndarray (abreviatura de \"n-dimensional array\" o \"matriz n-dimensional\"). Las matrices NumPy pueden tener hasta N dimensiones y contienen elementos del mismo tipo de datos, lo que permite un cálculo rápido y eficiente.\n",
    "\n",
    "## ¿Qué es un array?\n",
    "Un array, también conocido como matriz, es una estructura de datos que permite almacenar una colección de elementos del mismo tipo. En un array, los elementos están dispuestos en una secuencia ordenada y se accede a ellos mediante un índice. Al igual que hacíamos en listas, la indexación comienza en 0.\n",
    "\n",
    "### Tipos de Arrays por Dimensión\n",
    "\n",
    "*   **Unidimensional (1D)**: Una secuencia lineal de elementos, similar a una lista.\n",
    "*   **Bidimensional (2D)**: Organizado en filas y columnas, como una tabla o matriz.\n",
    "*   **Tridimensional (3D)**: Con tres índices para acceder a los elementos, útil para datos más complejos como volúmenes.\n",
    "\n",
    "### Creación a partir de Listas\n",
    "\n",
    "Es una de las formas más comunes de crear arrays.\n",
    "\n"
   ]
  },
  {
   "cell_type": "code",
   "execution_count": 1,
   "id": "92e5e0b1",
   "metadata": {},
   "outputs": [],
   "source": [
    "import numpy as np"
   ]
  },
  {
   "cell_type": "code",
   "execution_count": 4,
   "id": "0b74cafe",
   "metadata": {},
   "outputs": [],
   "source": [
    "# Crear un array unidimensional desde una lista\n",
    "lista1 = [34, 56, 71, 98, 10]\n",
    "array1D = np.array(lista1)"
   ]
  },
  {
   "cell_type": "code",
   "execution_count": 5,
   "id": "739588f5",
   "metadata": {},
   "outputs": [
    {
     "data": {
      "text/plain": [
       "array([34, 56, 71, 98, 10])"
      ]
     },
     "execution_count": 5,
     "metadata": {},
     "output_type": "execute_result"
    }
   ],
   "source": [
    "array1D"
   ]
  },
  {
   "cell_type": "code",
   "execution_count": 6,
   "id": "ea4ba219",
   "metadata": {},
   "outputs": [
    {
     "data": {
      "text/plain": [
       "numpy.ndarray"
      ]
     },
     "execution_count": 6,
     "metadata": {},
     "output_type": "execute_result"
    }
   ],
   "source": [
    "type(array1D)"
   ]
  },
  {
   "cell_type": "code",
   "execution_count": 7,
   "id": "80d6c140",
   "metadata": {},
   "outputs": [
    {
     "data": {
      "text/plain": [
       "list"
      ]
     },
     "execution_count": 7,
     "metadata": {},
     "output_type": "execute_result"
    }
   ],
   "source": [
    "type(lista1)"
   ]
  },
  {
   "cell_type": "code",
   "execution_count": 8,
   "id": "9cb9d107",
   "metadata": {},
   "outputs": [],
   "source": [
    "# Crear un array bidimensional desde una lista de listas\n",
    "lista2 = [[23, 45, 89, 56], [12, 43, 82, 44]]\n",
    "array2D = np.array(lista2)"
   ]
  },
  {
   "cell_type": "code",
   "execution_count": 9,
   "id": "ed8345bf",
   "metadata": {},
   "outputs": [
    {
     "data": {
      "text/plain": [
       "array([[23, 45, 89, 56],\n",
       "       [12, 43, 82, 44]])"
      ]
     },
     "execution_count": 9,
     "metadata": {},
     "output_type": "execute_result"
    }
   ],
   "source": [
    "array2D"
   ]
  },
  {
   "cell_type": "code",
   "execution_count": 10,
   "id": "509d97a3",
   "metadata": {},
   "outputs": [
    {
     "data": {
      "text/plain": [
       "numpy.ndarray"
      ]
     },
     "execution_count": 10,
     "metadata": {},
     "output_type": "execute_result"
    }
   ],
   "source": [
    "type(array2D)"
   ]
  },
  {
   "cell_type": "code",
   "execution_count": 11,
   "id": "ed950acf",
   "metadata": {},
   "outputs": [
    {
     "name": "stdout",
     "output_type": "stream",
     "text": [
      "Array Tridimensional:\n",
      "[[[2 4 6 3 7 8 9]\n",
      "  [2 4 6 3 7 8 9]]\n",
      "\n",
      " [[2 4 6 3 7 8 9]\n",
      "  [2 4 6 3 7 8 9]]]\n",
      "\n"
     ]
    }
   ],
   "source": [
    "# Array Tridimensional desde una lista de listas de listas\n",
    "lista_3d = [[[2, 4, 6, 3, 7, 8, 9],[2, 4, 6, 3, 7, 8, 9]], [[2, 4, 6, 3, 7, 8, 9],[2, 4, 6, 3, 7, 8, 9]]]\n",
    "array_3d = np.array(lista_3d)\n",
    "print(f\"Array Tridimensional:\\n{array_3d}\\n\")"
   ]
  },
  {
   "cell_type": "markdown",
   "id": "83d71779",
   "metadata": {},
   "source": [
    "\n",
    "\n",
    "### Arrays con Valores Secuenciales (`np.arange`)\n",
    "\n",
    "Funciona de forma similar al `range()` de Python, pero devuelve un array unidimensional por defecto.\n",
    "\n"
   ]
  },
  {
   "cell_type": "code",
   "execution_count": 12,
   "id": "c4041f1d",
   "metadata": {},
   "outputs": [
    {
     "name": "stdout",
     "output_type": "stream",
     "text": [
      "Array arange(5):\n",
      "[0 1 2 3 4]\n",
      "\n"
     ]
    }
   ],
   "source": [
    "# Array con valores del 0 al 4 (exclusivo)\n",
    "array_arange = np.arange(5)\n",
    "print(f\"Array arange(5):\\n{array_arange}\\n\") #"
   ]
  },
  {
   "cell_type": "code",
   "execution_count": 13,
   "id": "1acdc514",
   "metadata": {},
   "outputs": [
    {
     "data": {
      "text/plain": [
       "array([0, 1, 2, 3, 4])"
      ]
     },
     "execution_count": 13,
     "metadata": {},
     "output_type": "execute_result"
    }
   ],
   "source": [
    "array_arange"
   ]
  },
  {
   "cell_type": "code",
   "execution_count": 14,
   "id": "a2365faf",
   "metadata": {},
   "outputs": [
    {
     "name": "stdout",
     "output_type": "stream",
     "text": [
      "[0 1 2 3 4]\n"
     ]
    }
   ],
   "source": [
    "print(array_arange)"
   ]
  },
  {
   "cell_type": "code",
   "execution_count": 15,
   "id": "bf465834",
   "metadata": {},
   "outputs": [
    {
     "name": "stdout",
     "output_type": "stream",
     "text": [
      "Array arange(1, 10, 2):\n",
      "[1 3 5 7 9]\n",
      "\n"
     ]
    }
   ],
   "source": [
    "# Array con valores del 1 al 10 (exclusivo), con pasos de 2\n",
    "array_arange_step = np.arange(1, 10, 2)\n",
    "print(f\"Array arange(1, 10, 2):\\n{array_arange_step}\\n\") #"
   ]
  },
  {
   "cell_type": "markdown",
   "id": "87ecf186",
   "metadata": {},
   "source": [
    "\n",
    "\n",
    "### Propiedades de un Array\n",
    "\n",
    "NumPy ofrece métodos para entender las propiedades de un array.\n",
    "*   `.shape`: Tupla que representa la forma (dimensiones) del array.\n",
    "*   `.ndim`: Número de dimensiones del array.\n",
    "*   `.size`: Número total de elementos en el array.\n",
    "*   `.dtype`: Tipo de datos de los elementos del array.\n",
    "\n"
   ]
  },
  {
   "cell_type": "code",
   "execution_count": 16,
   "id": "f22464f9",
   "metadata": {},
   "outputs": [
    {
     "data": {
      "text/plain": [
       "array([[23, 45, 89, 56],\n",
       "       [12, 43, 82, 44]])"
      ]
     },
     "execution_count": 16,
     "metadata": {},
     "output_type": "execute_result"
    }
   ],
   "source": [
    "array2D"
   ]
  },
  {
   "cell_type": "code",
   "execution_count": 19,
   "id": "649da95f",
   "metadata": {},
   "outputs": [
    {
     "name": "stdout",
     "output_type": "stream",
     "text": [
      "Número de dimensiones (ndim): 2\n",
      "Forma (shape): (2, 4)\n",
      "Tamaño total (size): 8\n",
      "Tipo de datos (dtype): int64\n"
     ]
    }
   ],
   "source": [
    "# Propiedades del array > No llevan paréntesis\n",
    "print(\"Número de dimensiones (ndim):\", array2D.ndim) # 2 dimensiones\n",
    "print(\"Forma (shape):\", array2D.shape) # 2 filas y 4 columnas\n",
    "print(\"Tamaño total (size):\", array2D.size) # número de elementos \n",
    "print(\"Tipo de datos (dtype):\", array2D.dtype) # tipo de dato"
   ]
  },
  {
   "cell_type": "markdown",
   "id": "3b61a3c3",
   "metadata": {},
   "source": [
    "\n",
    "\n",
    "### Arrays con Números Aleatorios (`np.random`)\n",
    "\n",
    "El módulo `np.random` ofrece funciones para generar números aleatorios con distintas distribuciones.\n",
    "*   `np.random.randint(low, high, size)`: Enteros aleatorios en un rango.\n"
   ]
  },
  {
   "cell_type": "code",
   "execution_count": 25,
   "id": "8a7a4db4",
   "metadata": {},
   "outputs": [
    {
     "name": "stdout",
     "output_type": "stream",
     "text": [
      "Array aleatorio:\n",
      " 0\n"
     ]
    }
   ],
   "source": [
    "# Crear arrays con valores aleatorios\n",
    "array_aleatorio1 = np.random.randint(7) # crea un valor aleatorio entre 0 (inclusive) y 7 (exclusivo)\n",
    "print(\"Array aleatorio:\\n\", array_aleatorio1)"
   ]
  },
  {
   "cell_type": "code",
   "execution_count": 26,
   "id": "d2c2ada2",
   "metadata": {},
   "outputs": [
    {
     "data": {
      "text/plain": [
       "int"
      ]
     },
     "execution_count": 26,
     "metadata": {},
     "output_type": "execute_result"
    }
   ],
   "source": [
    "type(array_aleatorio1)"
   ]
  },
  {
   "cell_type": "code",
   "execution_count": 29,
   "id": "55a48e8f",
   "metadata": {},
   "outputs": [
    {
     "name": "stdout",
     "output_type": "stream",
     "text": [
      "Array aleatorio:\n",
      " [[28 26 24]\n",
      " [35 23 38]\n",
      " [30 32 38]\n",
      " [23 32 21]]\n"
     ]
    }
   ],
   "source": [
    "# Crear arrays con valores aleatorios\n",
    "array_aleatorio2 = np.random.randint(20, 40, size=(4, 3)) # sintaxis (low, high, size, dtype)\n",
    "print(\"Array aleatorio:\\n\", array_aleatorio2)\n",
    "# Crea array con valores aleatorios de 20 (incl) a 40 (excl) con 4 filas y 3 columnas"
   ]
  },
  {
   "cell_type": "markdown",
   "id": "f9ff1cd7",
   "metadata": {},
   "source": [
    "# Indexación en Arrays\n",
    "\n",
    "---\n",
    "\n",
    "La indexación se utiliza para acceder a elementos individuales o grupos de elementos en un array, similar a las listas en Python (los índices comienzan en 0).\n",
    "\n"
   ]
  },
  {
   "cell_type": "code",
   "execution_count": 30,
   "id": "d9873967",
   "metadata": {},
   "outputs": [
    {
     "data": {
      "text/plain": [
       "array([34, 56, 71, 98, 10])"
      ]
     },
     "execution_count": 30,
     "metadata": {},
     "output_type": "execute_result"
    }
   ],
   "source": [
    "array1D"
   ]
  },
  {
   "cell_type": "code",
   "execution_count": 32,
   "id": "4acf50a1",
   "metadata": {},
   "outputs": [
    {
     "data": {
      "text/plain": [
       "array([[23, 45, 89, 56],\n",
       "       [12, 43, 82, 44]])"
      ]
     },
     "execution_count": 32,
     "metadata": {},
     "output_type": "execute_result"
    }
   ],
   "source": [
    "array2D"
   ]
  },
  {
   "cell_type": "code",
   "execution_count": 31,
   "id": "fc304487",
   "metadata": {},
   "outputs": [
    {
     "name": "stdout",
     "output_type": "stream",
     "text": [
      "Primer elemento del array1D: 34\n",
      "Elemento (2, 3) del array2D: 82\n"
     ]
    }
   ],
   "source": [
    "# Acceso a elementos en arrays 1D y 2D\n",
    "print(\"Primer elemento del array1D:\", array1D[0])\n",
    "print(\"Elemento (2, 3) del array2D:\", array2D[1, 2])  # Fila 2, Columna 3"
   ]
  },
  {
   "cell_type": "code",
   "execution_count": 33,
   "id": "7d513279",
   "metadata": {},
   "outputs": [
    {
     "data": {
      "text/plain": [
       "82"
      ]
     },
     "execution_count": 33,
     "metadata": {},
     "output_type": "execute_result"
    }
   ],
   "source": [
    "# Otra manera de hacer la indexación en arrays bidimensionales \n",
    "array2D[1][2]"
   ]
  },
  {
   "cell_type": "code",
   "execution_count": null,
   "id": "99e54b3e",
   "metadata": {},
   "outputs": [
    {
     "ename": "IndexError",
     "evalue": "index 2 is out of bounds for axis 0 with size 2",
     "output_type": "error",
     "traceback": [
      "\u001b[0;31m---------------------------------------------------------------------------\u001b[0m",
      "\u001b[0;31mIndexError\u001b[0m                                Traceback (most recent call last)",
      "Cell \u001b[0;32mIn[34], line 1\u001b[0m\n\u001b[0;32m----> 1\u001b[0m array2D[\u001b[38;5;241m2\u001b[39m][\u001b[38;5;241m3\u001b[39m]\n",
      "\u001b[0;31mIndexError\u001b[0m: index 2 is out of bounds for axis 0 with size 2"
     ]
    }
   ],
   "source": [
    "array2D[2][3] # No tenemos fila 2, solo tenemos filas de 0 a 1"
   ]
  },
  {
   "cell_type": "code",
   "execution_count": 35,
   "id": "afef8900",
   "metadata": {},
   "outputs": [
    {
     "data": {
      "text/plain": [
       "True"
      ]
     },
     "execution_count": 35,
     "metadata": {},
     "output_type": "execute_result"
    }
   ],
   "source": [
    "array2D[1, 2] == array2D[1][2]"
   ]
  },
  {
   "cell_type": "code",
   "execution_count": 37,
   "id": "a3f9d909",
   "metadata": {},
   "outputs": [
    {
     "data": {
      "text/plain": [
       "array([34, 56, 71, 98, 10])"
      ]
     },
     "execution_count": 37,
     "metadata": {},
     "output_type": "execute_result"
    }
   ],
   "source": [
    "array1D"
   ]
  },
  {
   "cell_type": "code",
   "execution_count": 36,
   "id": "86debbb2",
   "metadata": {},
   "outputs": [
    {
     "data": {
      "text/plain": [
       "array([[23, 45, 89, 56],\n",
       "       [12, 43, 82, 44]])"
      ]
     },
     "execution_count": 36,
     "metadata": {},
     "output_type": "execute_result"
    }
   ],
   "source": [
    "array2D"
   ]
  },
  {
   "cell_type": "code",
   "execution_count": null,
   "id": "d4758e75",
   "metadata": {},
   "outputs": [
    {
     "name": "stdout",
     "output_type": "stream",
     "text": [
      "Primeros tres elementos de array1D: [34 56 71]\n",
      "Primera fila de array2D: [23 45 89 56]\n",
      "Primera columna de array2D: [23 12]\n"
     ]
    }
   ],
   "source": [
    "# Indexación en arrays (Slicing)\n",
    "print(\"Primeros tres elementos de array1D:\", array1D[:3])\n",
    "print(\"Primera fila de array2D:\", array2D[0, :])\n",
    "print(\"Primera columna de array2D:\", array2D[:, 0])"
   ]
  },
  {
   "cell_type": "code",
   "execution_count": 39,
   "id": "109d6956",
   "metadata": {},
   "outputs": [
    {
     "data": {
      "text/plain": [
       "array([[23, 45, 89, 56],\n",
       "       [12, 43, 82, 44]])"
      ]
     },
     "execution_count": 39,
     "metadata": {},
     "output_type": "execute_result"
    }
   ],
   "source": [
    "array2D"
   ]
  },
  {
   "cell_type": "code",
   "execution_count": null,
   "id": "53aa6b4b",
   "metadata": {},
   "outputs": [
    {
     "data": {
      "text/plain": [
       "array([[45, 89],\n",
       "       [43, 82]])"
      ]
     },
     "execution_count": 40,
     "metadata": {},
     "output_type": "execute_result"
    }
   ],
   "source": [
    "# array[start:stop:step, start:stop:step] -> Fila, columna\n",
    "# Sacar los elementos 45, 89 y 43, 82\n",
    "array2D[:, 1:3] # de todas las filas, las columnas de 1 (inc) hasta 3 (excl)"
   ]
  },
  {
   "cell_type": "code",
   "execution_count": 41,
   "id": "9d5edcad",
   "metadata": {},
   "outputs": [
    {
     "data": {
      "text/plain": [
       "array([[45, 89, 56],\n",
       "       [43, 82, 44]])"
      ]
     },
     "execution_count": 41,
     "metadata": {},
     "output_type": "execute_result"
    }
   ],
   "source": [
    "array2D[:, 1:] # todas las filas, de la columna 1 hasta el final"
   ]
  },
  {
   "cell_type": "code",
   "execution_count": 42,
   "id": "090f5b09",
   "metadata": {},
   "outputs": [
    {
     "data": {
      "text/plain": [
       "array([[45, 89, 56],\n",
       "       [43, 82, 44]])"
      ]
     },
     "execution_count": 42,
     "metadata": {},
     "output_type": "execute_result"
    }
   ],
   "source": [
    "# Mismo resultado que la celda anterior\n",
    "array2D[:, -3:]"
   ]
  },
  {
   "cell_type": "code",
   "execution_count": 44,
   "id": "b303eca9",
   "metadata": {},
   "outputs": [
    {
     "data": {
      "text/plain": [
       "array([[23, 45, 89, 56],\n",
       "       [12, 43, 82, 44]])"
      ]
     },
     "execution_count": 44,
     "metadata": {},
     "output_type": "execute_result"
    }
   ],
   "source": [
    "array2D"
   ]
  },
  {
   "cell_type": "code",
   "execution_count": 43,
   "id": "8a43b688",
   "metadata": {},
   "outputs": [
    {
     "data": {
      "text/plain": [
       "array([[23, 89],\n",
       "       [12, 82]])"
      ]
     },
     "execution_count": 43,
     "metadata": {},
     "output_type": "execute_result"
    }
   ],
   "source": [
    "array2D[:, ::2] # todas las filas, todas las columnas, en pasos de 2 "
   ]
  },
  {
   "cell_type": "code",
   "execution_count": 45,
   "id": "50dafb35",
   "metadata": {},
   "outputs": [
    {
     "data": {
      "text/plain": [
       "array([[23, 56],\n",
       "       [12, 44]])"
      ]
     },
     "execution_count": 45,
     "metadata": {},
     "output_type": "execute_result"
    }
   ],
   "source": [
    "array2D[:, ::3] # todas las filas, todas las columnas, en pasos de 3"
   ]
  },
  {
   "cell_type": "code",
   "execution_count": 46,
   "id": "d9b161f0",
   "metadata": {},
   "outputs": [
    {
     "data": {
      "text/plain": [
       "array([[56, 89, 45, 23],\n",
       "       [44, 82, 43, 12]])"
      ]
     },
     "execution_count": 46,
     "metadata": {},
     "output_type": "execute_result"
    }
   ],
   "source": [
    "array2D[:, ::-1] # todas las filas, todas las columnas, en pasos de -1"
   ]
  },
  {
   "cell_type": "markdown",
   "id": "5da8cd87",
   "metadata": {},
   "source": [
    "# Filtrados en Arrays"
   ]
  },
  {
   "cell_type": "code",
   "execution_count": 47,
   "id": "7cae1f9a",
   "metadata": {},
   "outputs": [
    {
     "data": {
      "text/plain": [
       "array([[23, 45, 89, 56],\n",
       "       [12, 43, 82, 44]])"
      ]
     },
     "execution_count": 47,
     "metadata": {},
     "output_type": "execute_result"
    }
   ],
   "source": [
    "array2D"
   ]
  },
  {
   "cell_type": "code",
   "execution_count": 48,
   "id": "e1c7ab75",
   "metadata": {},
   "outputs": [
    {
     "data": {
      "text/plain": [
       "array([[False,  True,  True,  True],\n",
       "       [False,  True,  True,  True]])"
      ]
     },
     "execution_count": 48,
     "metadata": {},
     "output_type": "execute_result"
    }
   ],
   "source": [
    "array2D > 30"
   ]
  },
  {
   "cell_type": "code",
   "execution_count": 49,
   "id": "b90630ad",
   "metadata": {},
   "outputs": [
    {
     "data": {
      "text/plain": [
       "array([[False,  True,  True,  True],\n",
       "       [False,  True,  True,  True]])"
      ]
     },
     "execution_count": 49,
     "metadata": {},
     "output_type": "execute_result"
    }
   ],
   "source": [
    "# El primer paso para filtrar un array es crear una máscara booleana\n",
    "mascara = array2D > 30\n",
    "mascara "
   ]
  },
  {
   "cell_type": "code",
   "execution_count": 51,
   "id": "c4411ae2",
   "metadata": {},
   "outputs": [
    {
     "data": {
      "text/plain": [
       "numpy.ndarray"
      ]
     },
     "execution_count": 51,
     "metadata": {},
     "output_type": "execute_result"
    }
   ],
   "source": [
    "type(mascara)"
   ]
  },
  {
   "cell_type": "code",
   "execution_count": 50,
   "id": "e6c65fee",
   "metadata": {},
   "outputs": [
    {
     "data": {
      "text/plain": [
       "dtype('bool')"
      ]
     },
     "execution_count": 50,
     "metadata": {},
     "output_type": "execute_result"
    }
   ],
   "source": [
    "mascara.dtype"
   ]
  },
  {
   "cell_type": "code",
   "execution_count": 53,
   "id": "8c160da4",
   "metadata": {},
   "outputs": [
    {
     "data": {
      "text/plain": [
       "array([[23, 45, 89, 56],\n",
       "       [12, 43, 82, 44]])"
      ]
     },
     "execution_count": 53,
     "metadata": {},
     "output_type": "execute_result"
    }
   ],
   "source": [
    "array2D"
   ]
  },
  {
   "cell_type": "code",
   "execution_count": 52,
   "id": "d34d57de",
   "metadata": {},
   "outputs": [
    {
     "data": {
      "text/plain": [
       "array([45, 89, 56, 43, 82, 44])"
      ]
     },
     "execution_count": 52,
     "metadata": {},
     "output_type": "execute_result"
    }
   ],
   "source": [
    "# El segundo paso es aplicar la máscara creada\n",
    "array2D[mascara] # devuelve un array de 1 dimension porque se ha cambiado la forma original del array al aplicar la máscara"
   ]
  },
  {
   "cell_type": "code",
   "execution_count": 54,
   "id": "dc6fcd41",
   "metadata": {},
   "outputs": [
    {
     "data": {
      "text/plain": [
       "array([45, 89, 56, 43, 82, 44])"
      ]
     },
     "execution_count": 54,
     "metadata": {},
     "output_type": "execute_result"
    }
   ],
   "source": [
    "# Esto es lo mismo:\n",
    "array2D[array2D > 30] "
   ]
  },
  {
   "cell_type": "code",
   "execution_count": 55,
   "id": "3867d125",
   "metadata": {},
   "outputs": [
    {
     "data": {
      "text/plain": [
       "array([[23, 45, 89, 56],\n",
       "       [12, 43, 82, 45]])"
      ]
     },
     "execution_count": 55,
     "metadata": {},
     "output_type": "execute_result"
    }
   ],
   "source": [
    "array2D_2 = np.array([[23, 45, 89, 56], [12, 43, 82, 45]])\n",
    "array2D_2"
   ]
  },
  {
   "cell_type": "code",
   "execution_count": 56,
   "id": "97b74f03",
   "metadata": {},
   "outputs": [
    {
     "data": {
      "text/plain": [
       "array([[23, 45, 89, 56],\n",
       "       [12, 43, 82, 44]])"
      ]
     },
     "execution_count": 56,
     "metadata": {},
     "output_type": "execute_result"
    }
   ],
   "source": [
    "array2D"
   ]
  },
  {
   "cell_type": "code",
   "execution_count": 57,
   "id": "9048548e",
   "metadata": {},
   "outputs": [
    {
     "data": {
      "text/plain": [
       "array([[ True,  True,  True,  True],\n",
       "       [ True,  True,  True, False]])"
      ]
     },
     "execution_count": 57,
     "metadata": {},
     "output_type": "execute_result"
    }
   ],
   "source": [
    "array2D == array2D_2"
   ]
  },
  {
   "cell_type": "code",
   "execution_count": null,
   "id": "c9800ffe",
   "metadata": {},
   "outputs": [],
   "source": [
    "# Seleccionar valores basados en dos condiciones\n",
    "# Operador `&` para indicar que queremos que se cumplan las dos condiciones => `and`\n",
    "# Operador `|` para indicar que se cumpla una condición u otra => `or`"
   ]
  },
  {
   "cell_type": "code",
   "execution_count": 58,
   "id": "41fc5c40",
   "metadata": {},
   "outputs": [
    {
     "data": {
      "text/plain": [
       "array([34, 56, 71, 98, 10])"
      ]
     },
     "execution_count": 58,
     "metadata": {},
     "output_type": "execute_result"
    }
   ],
   "source": [
    "array1D"
   ]
  },
  {
   "cell_type": "code",
   "execution_count": 59,
   "id": "e3a2e230",
   "metadata": {},
   "outputs": [
    {
     "data": {
      "text/plain": [
       "True"
      ]
     },
     "execution_count": 59,
     "metadata": {},
     "output_type": "execute_result"
    }
   ],
   "source": [
    "71 in array1D"
   ]
  },
  {
   "cell_type": "code",
   "execution_count": 60,
   "id": "dcf00240",
   "metadata": {},
   "outputs": [
    {
     "data": {
      "text/plain": [
       "False"
      ]
     },
     "execution_count": 60,
     "metadata": {},
     "output_type": "execute_result"
    }
   ],
   "source": [
    "50 in array1D"
   ]
  },
  {
   "cell_type": "code",
   "execution_count": 61,
   "id": "b162d793",
   "metadata": {},
   "outputs": [
    {
     "data": {
      "text/plain": [
       "True"
      ]
     },
     "execution_count": 61,
     "metadata": {},
     "output_type": "execute_result"
    }
   ],
   "source": [
    "(71 in array1D) & (98 in array1D)"
   ]
  },
  {
   "cell_type": "code",
   "execution_count": 62,
   "id": "8cc7371c",
   "metadata": {},
   "outputs": [
    {
     "data": {
      "text/plain": [
       "False"
      ]
     },
     "execution_count": 62,
     "metadata": {},
     "output_type": "execute_result"
    }
   ],
   "source": [
    "(71 in array1D) & (99 in array1D)"
   ]
  },
  {
   "cell_type": "code",
   "execution_count": 63,
   "id": "12bb218b",
   "metadata": {},
   "outputs": [
    {
     "data": {
      "text/plain": [
       "True"
      ]
     },
     "execution_count": 63,
     "metadata": {},
     "output_type": "execute_result"
    }
   ],
   "source": [
    "(71 in array1D) | (99 in array1D)"
   ]
  },
  {
   "cell_type": "code",
   "execution_count": 64,
   "id": "4df141e0",
   "metadata": {},
   "outputs": [
    {
     "data": {
      "text/plain": [
       "array([[23, 45, 89, 56],\n",
       "       [12, 43, 82, 44]])"
      ]
     },
     "execution_count": 64,
     "metadata": {},
     "output_type": "execute_result"
    }
   ],
   "source": [
    "array2D"
   ]
  },
  {
   "cell_type": "code",
   "execution_count": null,
   "id": "8b5329dd",
   "metadata": {},
   "outputs": [
    {
     "name": "stdout",
     "output_type": "stream",
     "text": [
      "Valores entre 30 y 60:\n",
      " [45 56 43 44]\n"
     ]
    }
   ],
   "source": [
    "mascara = (array2D > 30) & (array2D < 60)\n",
    "print(\"Valores entre 30 y 60:\\n\", array2D[mascara])"
   ]
  },
  {
   "cell_type": "code",
   "execution_count": 66,
   "id": "a614dc60",
   "metadata": {},
   "outputs": [
    {
     "name": "stdout",
     "output_type": "stream",
     "text": [
      "[23 89 82]\n"
     ]
    }
   ],
   "source": [
    "mascara = (array2D == 23) | (array2D > 80)\n",
    "print(array2D[mascara])"
   ]
  },
  {
   "cell_type": "markdown",
   "id": "8dfa635a",
   "metadata": {},
   "source": [
    "## Filtrado con `np.where()`\n",
    "\n",
    "`np.where(condición, valor_si_verdadero, valor_si_falso)`: Evalúa una condición y devuelve valores según sea verdadera o falsa. También puede devolver los índices de los elementos que cumplen la condición."
   ]
  },
  {
   "cell_type": "code",
   "execution_count": null,
   "id": "1a9c9a3f",
   "metadata": {},
   "outputs": [],
   "source": [
    "# Realiza una evaluación condicional sobre un array. \n",
    "# La función `np.where()` devuelve un nuevo array con los elementos seleccionados según la condición especificada.\n",
    "# Sintaxis: np.where(condición, valor_si_verdadero, valor_si_falso)"
   ]
  },
  {
   "cell_type": "code",
   "execution_count": 67,
   "id": "a316cf7e",
   "metadata": {},
   "outputs": [
    {
     "data": {
      "text/plain": [
       "array([[23, 45, 89, 56],\n",
       "       [12, 43, 82, 44]])"
      ]
     },
     "execution_count": 67,
     "metadata": {},
     "output_type": "execute_result"
    }
   ],
   "source": [
    "array2D"
   ]
  },
  {
   "cell_type": "code",
   "execution_count": 68,
   "id": "88544bcc",
   "metadata": {},
   "outputs": [
    {
     "name": "stdout",
     "output_type": "stream",
     "text": [
      "Índices donde los valores son mayores a 50: (array([0, 0, 1]), array([2, 3, 2]))\n"
     ]
    }
   ],
   "source": [
    "# Índices con condiciones\n",
    "indices_mayores = np.where(array2D > 50)\n",
    "print(\"Índices donde los valores son mayores a 50:\", indices_mayores)"
   ]
  },
  {
   "cell_type": "code",
   "execution_count": 69,
   "id": "d3957e2d",
   "metadata": {},
   "outputs": [
    {
     "data": {
      "text/plain": [
       "(array([0, 0, 1]), array([2, 3, 2]))"
      ]
     },
     "execution_count": 69,
     "metadata": {},
     "output_type": "execute_result"
    }
   ],
   "source": [
    "# El primer array contiene los indices de las filas\n",
    "# El segundo array contiene los indices de las columnas\n",
    "indices_mayores"
   ]
  },
  {
   "cell_type": "code",
   "execution_count": null,
   "id": "07ead6a0",
   "metadata": {},
   "outputs": [],
   "source": [
    "# Si combinamos las filas con las columnas:\n",
    "# 0, 2 -> 89\n",
    "# 0, 3 -> 56\n",
    "# 1, 2 -> 82\n",
    "# Hasta aquí hemos entendido como funciona el np.where(), ahora veremos ejemplos prácticos usando los demás parámetros."
   ]
  },
  {
   "cell_type": "code",
   "execution_count": 72,
   "id": "95b039fb",
   "metadata": {},
   "outputs": [
    {
     "data": {
      "text/plain": [
       "array([[23, 45, 89, 56],\n",
       "       [12, 43, 82, 44]])"
      ]
     },
     "execution_count": 72,
     "metadata": {},
     "output_type": "execute_result"
    }
   ],
   "source": [
    "array2D"
   ]
  },
  {
   "cell_type": "code",
   "execution_count": 70,
   "id": "949bbfdf",
   "metadata": {},
   "outputs": [
    {
     "data": {
      "text/plain": [
       "array([[ 0,  0, 89, 56],\n",
       "       [ 0,  0, 82,  0]])"
      ]
     },
     "execution_count": 70,
     "metadata": {},
     "output_type": "execute_result"
    }
   ],
   "source": [
    "# Índices con condición asignando valores según se cumpla o no\n",
    "indices_mayores1 = np.where(array2D > 50, array2D, 0) # Si se cumple, mantiene el valor original, si no, cero.\n",
    "indices_mayores1"
   ]
  },
  {
   "cell_type": "code",
   "execution_count": 73,
   "id": "7b274335",
   "metadata": {},
   "outputs": [
    {
     "data": {
      "text/plain": [
       "array([['NO', 'NO', '89', '56'],\n",
       "       ['NO', 'NO', '82', 'NO']], dtype='<U21')"
      ]
     },
     "execution_count": 73,
     "metadata": {},
     "output_type": "execute_result"
    }
   ],
   "source": [
    "indices_mayores2 = np.where(array2D > 50, array2D, 'NO')\n",
    "indices_mayores2 # Cuidado con el cambio del tipo de datos, acordaros que un array solo puede tener datos del mismo tipo. "
   ]
  },
  {
   "cell_type": "code",
   "execution_count": 74,
   "id": "c91d0509",
   "metadata": {},
   "outputs": [
    {
     "data": {
      "text/plain": [
       "dtype('<U21')"
      ]
     },
     "execution_count": 74,
     "metadata": {},
     "output_type": "execute_result"
    }
   ],
   "source": [
    "indices_mayores2.dtype"
   ]
  },
  {
   "cell_type": "code",
   "execution_count": 76,
   "id": "847f17e4",
   "metadata": {},
   "outputs": [
    {
     "data": {
      "text/plain": [
       "array([[23, 45, 89, 56],\n",
       "       [12, 43, 82, 44]])"
      ]
     },
     "execution_count": 76,
     "metadata": {},
     "output_type": "execute_result"
    }
   ],
   "source": [
    "array2D"
   ]
  },
  {
   "cell_type": "code",
   "execution_count": null,
   "id": "59b7144c",
   "metadata": {},
   "outputs": [
    {
     "data": {
      "text/plain": [
       "array([['c', 'b', 'a', 'b'],\n",
       "       ['c', 'b', 'a', 'b']], dtype='<U1')"
      ]
     },
     "execution_count": 75,
     "metadata": {},
     "output_type": "execute_result"
    }
   ],
   "source": [
    "np.where(array2D > 60, \"a\", np.where(array2D > 40, \"b\", \"c\")) "
   ]
  },
  {
   "cell_type": "code",
   "execution_count": null,
   "id": "13026d68",
   "metadata": {},
   "outputs": [],
   "source": [
    "# Situación práctica: Cuando veamos Pandas el np.where es una forma muy rapida de modificar datos, lo podemos utilizar con pandas"
   ]
  },
  {
   "cell_type": "markdown",
   "id": "8d142f53",
   "metadata": {},
   "source": [
    "# Operaciones Aritméticas con arrays\n",
    "\n",
    "NumPy permite realizar operaciones aritméticas elemento por elemento entre arrays o con escalares.\n",
    "\n"
   ]
  },
  {
   "cell_type": "code",
   "execution_count": 77,
   "id": "7329dd0c",
   "metadata": {},
   "outputs": [
    {
     "data": {
      "text/plain": [
       "array([[29, 25, 27, 42],\n",
       "       [37, 25, 21, 33]])"
      ]
     },
     "execution_count": 77,
     "metadata": {},
     "output_type": "execute_result"
    }
   ],
   "source": [
    "# Operaciones entre arrays\n",
    "array2 = np.random.randint(10, 50, size=(2, 4))\n",
    "array2"
   ]
  },
  {
   "cell_type": "code",
   "execution_count": 78,
   "id": "4ddecbd9",
   "metadata": {},
   "outputs": [
    {
     "data": {
      "text/plain": [
       "array([[23, 45, 89, 56],\n",
       "       [12, 43, 82, 44]])"
      ]
     },
     "execution_count": 78,
     "metadata": {},
     "output_type": "execute_result"
    }
   ],
   "source": [
    "array2D"
   ]
  },
  {
   "cell_type": "code",
   "execution_count": 79,
   "id": "3903a62d",
   "metadata": {},
   "outputs": [
    {
     "data": {
      "text/plain": [
       "array([[ 52,  70, 116,  98],\n",
       "       [ 49,  68, 103,  77]])"
      ]
     },
     "execution_count": 79,
     "metadata": {},
     "output_type": "execute_result"
    }
   ],
   "source": [
    "suma = array2D + array2\n",
    "suma"
   ]
  },
  {
   "cell_type": "code",
   "execution_count": 80,
   "id": "ae2fb3c6",
   "metadata": {},
   "outputs": [
    {
     "data": {
      "text/plain": [
       "array([[ 52,  70, 116,  98],\n",
       "       [ 49,  68, 103,  77]])"
      ]
     },
     "execution_count": 80,
     "metadata": {},
     "output_type": "execute_result"
    }
   ],
   "source": [
    "array2D + array2"
   ]
  },
  {
   "cell_type": "code",
   "execution_count": 81,
   "id": "84cbcba3",
   "metadata": {},
   "outputs": [
    {
     "data": {
      "text/plain": [
       "array([[ 52,  70, 116,  98],\n",
       "       [ 49,  68, 103,  77]])"
      ]
     },
     "execution_count": 81,
     "metadata": {},
     "output_type": "execute_result"
    }
   ],
   "source": [
    "np.add(array2, array2D)"
   ]
  },
  {
   "cell_type": "code",
   "execution_count": 82,
   "id": "65d06d71",
   "metadata": {},
   "outputs": [
    {
     "data": {
      "text/plain": [
       "array([[ -6,  20,  62,  14],\n",
       "       [-25,  18,  61,  11]])"
      ]
     },
     "execution_count": 82,
     "metadata": {},
     "output_type": "execute_result"
    }
   ],
   "source": [
    "resta = array2D - array2\n",
    "resta"
   ]
  },
  {
   "cell_type": "code",
   "execution_count": 83,
   "id": "ea01124f",
   "metadata": {},
   "outputs": [
    {
     "data": {
      "text/plain": [
       "array([[ -6,  20,  62,  14],\n",
       "       [-25,  18,  61,  11]])"
      ]
     },
     "execution_count": 83,
     "metadata": {},
     "output_type": "execute_result"
    }
   ],
   "source": [
    "np.subtract(array2D, array2)"
   ]
  },
  {
   "cell_type": "code",
   "execution_count": 84,
   "id": "e705b67f",
   "metadata": {},
   "outputs": [
    {
     "data": {
      "text/plain": [
       "array([[ 667, 1125, 2403, 2352],\n",
       "       [ 444, 1075, 1722, 1452]])"
      ]
     },
     "execution_count": 84,
     "metadata": {},
     "output_type": "execute_result"
    }
   ],
   "source": [
    "mult = array2D * array2\n",
    "mult"
   ]
  },
  {
   "cell_type": "code",
   "execution_count": 85,
   "id": "bf8b5504",
   "metadata": {},
   "outputs": [
    {
     "data": {
      "text/plain": [
       "array([[ 667, 1125, 2403, 2352],\n",
       "       [ 444, 1075, 1722, 1452]])"
      ]
     },
     "execution_count": 85,
     "metadata": {},
     "output_type": "execute_result"
    }
   ],
   "source": [
    "np.multiply(array2D, array2)"
   ]
  },
  {
   "cell_type": "code",
   "execution_count": 86,
   "id": "bc4813cd",
   "metadata": {},
   "outputs": [
    {
     "data": {
      "text/plain": [
       "array([[0.79310345, 1.8       , 3.2962963 , 1.33333333],\n",
       "       [0.32432432, 1.72      , 3.9047619 , 1.33333333]])"
      ]
     },
     "execution_count": 86,
     "metadata": {},
     "output_type": "execute_result"
    }
   ],
   "source": [
    "div = array2D / array2\n",
    "div"
   ]
  },
  {
   "cell_type": "code",
   "execution_count": 87,
   "id": "98f4ad02",
   "metadata": {},
   "outputs": [
    {
     "data": {
      "text/plain": [
       "array([[0.79310345, 1.8       , 3.2962963 , 1.33333333],\n",
       "       [0.32432432, 1.72      , 3.9047619 , 1.33333333]])"
      ]
     },
     "execution_count": 87,
     "metadata": {},
     "output_type": "execute_result"
    }
   ],
   "source": [
    "np.divide(array2D, array2)\n"
   ]
  },
  {
   "cell_type": "markdown",
   "id": "f5a71361",
   "metadata": {},
   "source": [
    "### Redondeo (`np.round()`)\n",
    "\n",
    "Permite redondear los valores de los elementos de un array a una cantidad específica de decimales."
   ]
  },
  {
   "cell_type": "code",
   "execution_count": 88,
   "id": "e6638331",
   "metadata": {},
   "outputs": [
    {
     "data": {
      "text/plain": [
       "array([[0.7931, 1.8   , 3.2963, 1.3333],\n",
       "       [0.3243, 1.72  , 3.9048, 1.3333]])"
      ]
     },
     "execution_count": 88,
     "metadata": {},
     "output_type": "execute_result"
    }
   ],
   "source": [
    "redond = np.round(div, 4)\n",
    "redond"
   ]
  },
  {
   "cell_type": "code",
   "execution_count": 89,
   "id": "01585b8c",
   "metadata": {},
   "outputs": [
    {
     "data": {
      "text/plain": [
       "array([[0.7931, 1.8   , 3.2963, 1.3333],\n",
       "       [0.3243, 1.72  , 3.9048, 1.3333]])"
      ]
     },
     "execution_count": 89,
     "metadata": {},
     "output_type": "execute_result"
    }
   ],
   "source": [
    "redondear = div.round(decimals=4)\n",
    "redondear"
   ]
  },
  {
   "cell_type": "code",
   "execution_count": 90,
   "id": "f9a29d85",
   "metadata": {},
   "outputs": [
    {
     "data": {
      "text/plain": [
       "array([[0.79, 1.8 , 3.3 , 1.33],\n",
       "       [0.32, 1.72, 3.9 , 1.33]])"
      ]
     },
     "execution_count": 90,
     "metadata": {},
     "output_type": "execute_result"
    }
   ],
   "source": [
    "redondear1 = div.round(decimals=2)\n",
    "redondear1"
   ]
  },
  {
   "cell_type": "code",
   "execution_count": 91,
   "id": "23917d43",
   "metadata": {},
   "outputs": [
    {
     "data": {
      "text/plain": [
       "array([[1., 2., 3., 1.],\n",
       "       [0., 2., 4., 1.]])"
      ]
     },
     "execution_count": 91,
     "metadata": {},
     "output_type": "execute_result"
    }
   ],
   "source": [
    "redondear2 = div.round()\n",
    "redondear2"
   ]
  },
  {
   "cell_type": "code",
   "execution_count": 92,
   "id": "924edb63",
   "metadata": {},
   "outputs": [
    {
     "data": {
      "text/plain": [
       "dtype('float64')"
      ]
     },
     "execution_count": 92,
     "metadata": {},
     "output_type": "execute_result"
    }
   ],
   "source": [
    "redondear2.dtype"
   ]
  },
  {
   "cell_type": "code",
   "execution_count": 93,
   "id": "355053ae",
   "metadata": {},
   "outputs": [
    {
     "data": {
      "text/plain": [
       "array([[0, 1, 3, 1],\n",
       "       [0, 1, 3, 1]])"
      ]
     },
     "execution_count": 93,
     "metadata": {},
     "output_type": "execute_result"
    }
   ],
   "source": [
    "div1 = array2D // array2 # división entera\n",
    "div1"
   ]
  },
  {
   "cell_type": "code",
   "execution_count": 94,
   "id": "4ebd07a7",
   "metadata": {},
   "outputs": [
    {
     "data": {
      "text/plain": [
       "array([[ 529, 2025, 7921, 3136],\n",
       "       [ 144, 1849, 6724, 1936]])"
      ]
     },
     "execution_count": 94,
     "metadata": {},
     "output_type": "execute_result"
    }
   ],
   "source": [
    "potencia = np.power(array2D, 2) # Potencia de 2 para cada elemento\n",
    "potencia"
   ]
  },
  {
   "cell_type": "code",
   "execution_count": 95,
   "id": "98544159",
   "metadata": {},
   "outputs": [
    {
     "data": {
      "text/plain": [
       "array([[29, 11, 34],\n",
       "       [35, 40, 31],\n",
       "       [22, 42, 35],\n",
       "       [21, 24, 34]])"
      ]
     },
     "execution_count": 95,
     "metadata": {},
     "output_type": "execute_result"
    }
   ],
   "source": [
    "array3 = np.random.randint(10, 50, size=(4, 3))\n",
    "array3"
   ]
  },
  {
   "cell_type": "code",
   "execution_count": 96,
   "id": "723226db",
   "metadata": {},
   "outputs": [
    {
     "data": {
      "text/plain": [
       "array([[23, 45, 89, 56],\n",
       "       [12, 43, 82, 44]])"
      ]
     },
     "execution_count": 96,
     "metadata": {},
     "output_type": "execute_result"
    }
   ],
   "source": [
    "array2D"
   ]
  },
  {
   "cell_type": "code",
   "execution_count": null,
   "id": "7b54f771",
   "metadata": {},
   "outputs": [
    {
     "ename": "ValueError",
     "evalue": "operands could not be broadcast together with shapes (4,3) (2,4) ",
     "output_type": "error",
     "traceback": [
      "\u001b[0;31m---------------------------------------------------------------------------\u001b[0m",
      "\u001b[0;31mValueError\u001b[0m                                Traceback (most recent call last)",
      "Cell \u001b[0;32mIn[97], line 1\u001b[0m\n\u001b[0;32m----> 1\u001b[0m array3 \u001b[38;5;241m+\u001b[39m array2D\n",
      "\u001b[0;31mValueError\u001b[0m: operands could not be broadcast together with shapes (4,3) (2,4) "
     ]
    }
   ],
   "source": [
    "suma = array3 + array2D\n",
    "suma # No podemos realizar operaciones con arrays de distintas dimensiones!!"
   ]
  },
  {
   "cell_type": "code",
   "execution_count": 98,
   "id": "7294785a",
   "metadata": {},
   "outputs": [
    {
     "data": {
      "text/plain": [
       "array([[23, 45, 89, 56],\n",
       "       [12, 43, 82, 44]])"
      ]
     },
     "execution_count": 98,
     "metadata": {},
     "output_type": "execute_result"
    }
   ],
   "source": [
    "array2D"
   ]
  },
  {
   "cell_type": "code",
   "execution_count": 99,
   "id": "6a3fc51a",
   "metadata": {},
   "outputs": [
    {
     "name": "stdout",
     "output_type": "stream",
     "text": [
      "Array multiplicado por 10:\n",
      " [[230 450 890 560]\n",
      " [120 430 820 440]]\n"
     ]
    }
   ],
   "source": [
    "escalar = 10\n",
    "# un escalar es simplemente un número (como un entero o un flotante) que se puede usar en operaciones matemáticas, \n",
    "# ya sea por sí solo o aplicado a cada elemento de un array o matriz. Por ejemplo, en NumPy, multiplicar un array \n",
    "# por un escalar significa multiplicar todos los elementos del array por ese número.\n",
    "print(\"Array multiplicado por 10:\\n\", array2D * escalar)"
   ]
  },
  {
   "cell_type": "code",
   "execution_count": 101,
   "id": "2c1c5189",
   "metadata": {},
   "outputs": [
    {
     "data": {
      "text/plain": [
       "array([ 2,  4,  5,  7, 10])"
      ]
     },
     "execution_count": 101,
     "metadata": {},
     "output_type": "execute_result"
    }
   ],
   "source": [
    "# Ejemplo practico con escalar\n",
    "precio_unitario = np.array([2, 4, 5, 7, 10])\n",
    "precio_unitario"
   ]
  },
  {
   "cell_type": "code",
   "execution_count": 102,
   "id": "bfbdbd11",
   "metadata": {},
   "outputs": [
    {
     "data": {
      "text/plain": [
       "array([ 4,  6,  7,  9, 12])"
      ]
     },
     "execution_count": 102,
     "metadata": {},
     "output_type": "execute_result"
    }
   ],
   "source": [
    "escalar = 2 # Aumentar el precio de los productos en 2€\n",
    "precio_unitario + escalar"
   ]
  },
  {
   "cell_type": "code",
   "execution_count": 103,
   "id": "4e0b72fb",
   "metadata": {},
   "outputs": [
    {
     "data": {
      "text/plain": [
       "array([1. , 2. , 2.5, 3.5, 5. ])"
      ]
     },
     "execution_count": 103,
     "metadata": {},
     "output_type": "execute_result"
    }
   ],
   "source": [
    "escalar = 0.5 # Descuento de 50% para black friday\n",
    "precio_unitario * escalar"
   ]
  },
  {
   "cell_type": "code",
   "execution_count": 104,
   "id": "cae1a976",
   "metadata": {},
   "outputs": [
    {
     "data": {
      "text/plain": [
       "array([ 5.,  3.,  8.,  5., 12.])"
      ]
     },
     "execution_count": 104,
     "metadata": {},
     "output_type": "execute_result"
    }
   ],
   "source": [
    "# Ejemplo práctico para multiplicar matrices\n",
    "unidadades_pedidas = np.array([2, 3, 4, 1, 4])\n",
    "precio_unitario = np.array([2.5, 1, 2, 5, 3])\n",
    "unidadades_pedidas * precio_unitario"
   ]
  },
  {
   "cell_type": "markdown",
   "id": "8a8986f3",
   "metadata": {},
   "source": [
    "# Cálculos Estadísticos básicos\n",
    "\n",
    "NumPy ofrece una amplia gama de funciones para realizar cálculos de manera eficiente.\n"
   ]
  },
  {
   "cell_type": "code",
   "execution_count": 105,
   "id": "7613df42",
   "metadata": {},
   "outputs": [
    {
     "data": {
      "text/plain": [
       "array([[23, 45, 89, 56],\n",
       "       [12, 43, 82, 44]])"
      ]
     },
     "execution_count": 105,
     "metadata": {},
     "output_type": "execute_result"
    }
   ],
   "source": [
    "array2D"
   ]
  },
  {
   "cell_type": "code",
   "execution_count": null,
   "id": "332ec9b0",
   "metadata": {},
   "outputs": [
    {
     "data": {
      "text/plain": [
       "394"
      ]
     },
     "execution_count": 106,
     "metadata": {},
     "output_type": "execute_result"
    }
   ],
   "source": [
    "np.sum(array2D)"
   ]
  },
  {
   "cell_type": "code",
   "execution_count": 107,
   "id": "58cd58f8",
   "metadata": {},
   "outputs": [
    {
     "data": {
      "text/plain": [
       "394"
      ]
     },
     "execution_count": 107,
     "metadata": {},
     "output_type": "execute_result"
    }
   ],
   "source": [
    "array2D.sum()"
   ]
  },
  {
   "cell_type": "code",
   "execution_count": 108,
   "id": "c915e4a2",
   "metadata": {},
   "outputs": [
    {
     "data": {
      "text/plain": [
       "8"
      ]
     },
     "execution_count": 108,
     "metadata": {},
     "output_type": "execute_result"
    }
   ],
   "source": [
    "array2D.size\n"
   ]
  },
  {
   "cell_type": "code",
   "execution_count": 109,
   "id": "94f357cd",
   "metadata": {},
   "outputs": [
    {
     "data": {
      "text/plain": [
       "49.25"
      ]
     },
     "execution_count": 109,
     "metadata": {},
     "output_type": "execute_result"
    }
   ],
   "source": [
    "array2D.sum()/array2D.size"
   ]
  },
  {
   "cell_type": "code",
   "execution_count": 110,
   "id": "d232710c",
   "metadata": {},
   "outputs": [
    {
     "data": {
      "text/plain": [
       "49.25"
      ]
     },
     "execution_count": 110,
     "metadata": {},
     "output_type": "execute_result"
    }
   ],
   "source": [
    "np.mean(array2D)\n"
   ]
  },
  {
   "cell_type": "code",
   "execution_count": 111,
   "id": "fcc3b918",
   "metadata": {},
   "outputs": [
    {
     "data": {
      "text/plain": [
       "49.25"
      ]
     },
     "execution_count": 111,
     "metadata": {},
     "output_type": "execute_result"
    }
   ],
   "source": [
    "array2D.mean()\n"
   ]
  },
  {
   "cell_type": "code",
   "execution_count": 112,
   "id": "b2183638",
   "metadata": {},
   "outputs": [
    {
     "data": {
      "text/plain": [
       "array([[23, 45, 89, 56],\n",
       "       [12, 43, 82, 44]])"
      ]
     },
     "execution_count": 112,
     "metadata": {},
     "output_type": "execute_result"
    }
   ],
   "source": [
    "array2D"
   ]
  },
  {
   "cell_type": "code",
   "execution_count": 113,
   "id": "b4c1c537",
   "metadata": {},
   "outputs": [
    {
     "data": {
      "text/plain": [
       "12"
      ]
     },
     "execution_count": 113,
     "metadata": {},
     "output_type": "execute_result"
    }
   ],
   "source": [
    "np.min(array2D) # lo mismo que array2D.min()"
   ]
  },
  {
   "cell_type": "code",
   "execution_count": 114,
   "id": "946a9380",
   "metadata": {},
   "outputs": [
    {
     "data": {
      "text/plain": [
       "89"
      ]
     },
     "execution_count": 114,
     "metadata": {},
     "output_type": "execute_result"
    }
   ],
   "source": [
    "np.max(array2D) # lo mismo que array2D.max()\n"
   ]
  },
  {
   "cell_type": "markdown",
   "id": "0cca3e42",
   "metadata": {},
   "source": [
    "\n",
    "### Operaciones Estadísticas\n",
    "\n",
    "Calculo de medidas estadísticas sobre todo el array o a lo largo de un eje (`axis`).\n",
    "*   `axis = 0`: por columnas.\n",
    "*   `axis = 1`: por filas."
   ]
  },
  {
   "cell_type": "code",
   "execution_count": 115,
   "id": "aafadd69",
   "metadata": {},
   "outputs": [
    {
     "data": {
      "text/plain": [
       "array([[23, 45, 89, 56],\n",
       "       [12, 43, 82, 44]])"
      ]
     },
     "execution_count": 115,
     "metadata": {},
     "output_type": "execute_result"
    }
   ],
   "source": [
    "array2D"
   ]
  },
  {
   "cell_type": "code",
   "execution_count": 116,
   "id": "b5b86922",
   "metadata": {},
   "outputs": [
    {
     "data": {
      "text/plain": [
       "array([89, 82])"
      ]
     },
     "execution_count": 116,
     "metadata": {},
     "output_type": "execute_result"
    }
   ],
   "source": [
    "# Máximo de cada fila\n",
    "array2D.max(axis=1)"
   ]
  },
  {
   "cell_type": "code",
   "execution_count": 117,
   "id": "5f9b8318",
   "metadata": {},
   "outputs": [
    {
     "data": {
      "text/plain": [
       "array([23, 45, 89, 56])"
      ]
     },
     "execution_count": 117,
     "metadata": {},
     "output_type": "execute_result"
    }
   ],
   "source": [
    "# Máximo de cada columna\n",
    "array2D.max(axis=0)"
   ]
  },
  {
   "cell_type": "code",
   "execution_count": 118,
   "id": "48f2d50d",
   "metadata": {},
   "outputs": [
    {
     "data": {
      "text/plain": [
       "array([23, 12])"
      ]
     },
     "execution_count": 118,
     "metadata": {},
     "output_type": "execute_result"
    }
   ],
   "source": [
    "# Mínimo de cada fila\n",
    "array2D.min(axis=1)"
   ]
  },
  {
   "cell_type": "code",
   "execution_count": 119,
   "id": "610dfa81",
   "metadata": {},
   "outputs": [
    {
     "data": {
      "text/plain": [
       "array([12, 43, 82, 44])"
      ]
     },
     "execution_count": 119,
     "metadata": {},
     "output_type": "execute_result"
    }
   ],
   "source": [
    "# Mínimo de cada columna\n",
    "array2D.min(axis=0)"
   ]
  },
  {
   "cell_type": "code",
   "execution_count": 120,
   "id": "3508a519",
   "metadata": {},
   "outputs": [
    {
     "data": {
      "text/plain": [
       "array([213, 181])"
      ]
     },
     "execution_count": 120,
     "metadata": {},
     "output_type": "execute_result"
    }
   ],
   "source": [
    "array2D.sum(axis=1) # Suma de cada fila\n"
   ]
  },
  {
   "cell_type": "code",
   "execution_count": 121,
   "id": "3e5b8ba7",
   "metadata": {},
   "outputs": [
    {
     "data": {
      "text/plain": [
       "array([ 35,  88, 171, 100])"
      ]
     },
     "execution_count": 121,
     "metadata": {},
     "output_type": "execute_result"
    }
   ],
   "source": [
    "array2D.sum(axis=0) # Suma de cada columna\n"
   ]
  },
  {
   "cell_type": "code",
   "execution_count": 122,
   "id": "2cdefe7c",
   "metadata": {},
   "outputs": [
    {
     "data": {
      "text/plain": [
       "array([17.5, 44. , 85.5, 50. ])"
      ]
     },
     "execution_count": 122,
     "metadata": {},
     "output_type": "execute_result"
    }
   ],
   "source": [
    "array2D.mean(axis=0) # Média por columna\n"
   ]
  },
  {
   "cell_type": "code",
   "execution_count": 123,
   "id": "38eefb55",
   "metadata": {},
   "outputs": [
    {
     "data": {
      "text/plain": [
       "array([53.25, 45.25])"
      ]
     },
     "execution_count": 123,
     "metadata": {},
     "output_type": "execute_result"
    }
   ],
   "source": [
    "array2D.mean(axis=1) # Média por fila\n"
   ]
  },
  {
   "cell_type": "markdown",
   "id": "2afc8ddc",
   "metadata": {},
   "source": [
    "\n",
    "---\n",
    "\n",
    "## 4. Otros Métodos Esenciales de Manipulación \n",
    "\n",
    "### Ordenamiento (`np.sort()`)\n",
    "\n",
    "Devuelve una copia ordenada del array. Por defecto, ordena por filas (`axis=1`). Se puede especificar `axis=0` para ordenar por columnas.\n",
    "\n"
   ]
  },
  {
   "cell_type": "code",
   "execution_count": 124,
   "id": "b1730ea7",
   "metadata": {},
   "outputs": [
    {
     "data": {
      "text/plain": [
       "array([[23, 45, 89, 56],\n",
       "       [12, 43, 82, 44]])"
      ]
     },
     "execution_count": 124,
     "metadata": {},
     "output_type": "execute_result"
    }
   ],
   "source": [
    "array2D"
   ]
  },
  {
   "cell_type": "code",
   "execution_count": 125,
   "id": "cdfaf5fa",
   "metadata": {},
   "outputs": [
    {
     "data": {
      "text/plain": [
       "array([[23, 45, 56, 89],\n",
       "       [12, 43, 44, 82]])"
      ]
     },
     "execution_count": 125,
     "metadata": {},
     "output_type": "execute_result"
    }
   ],
   "source": [
    "ordenado = np.sort(array2D) # Por defecto ordena por filas\n",
    "ordenado"
   ]
  },
  {
   "cell_type": "code",
   "execution_count": 126,
   "id": "67e38b37",
   "metadata": {},
   "outputs": [
    {
     "data": {
      "text/plain": [
       "array([[12, 43, 82, 44],\n",
       "       [23, 45, 89, 56]])"
      ]
     },
     "execution_count": 126,
     "metadata": {},
     "output_type": "execute_result"
    }
   ],
   "source": [
    "ordenado1 = np.sort(array2D, axis=0) # axis=0 para ordenar por columnas\n",
    "ordenado1"
   ]
  },
  {
   "cell_type": "code",
   "execution_count": 127,
   "id": "f41951fb",
   "metadata": {},
   "outputs": [
    {
     "data": {
      "text/plain": [
       "array([[23, 45, 56, 89],\n",
       "       [12, 43, 44, 82]])"
      ]
     },
     "execution_count": 127,
     "metadata": {},
     "output_type": "execute_result"
    }
   ],
   "source": [
    "# En ambos casos hemos ordenado de menor a mayor, como hacemos para ordenar de mayor a menor?\n",
    "ordenado # array ordenado de menor a mayor"
   ]
  },
  {
   "cell_type": "code",
   "execution_count": 128,
   "id": "01209198",
   "metadata": {},
   "outputs": [
    {
     "data": {
      "text/plain": [
       "array([[89, 56, 45, 23],\n",
       "       [82, 44, 43, 12]])"
      ]
     },
     "execution_count": 128,
     "metadata": {},
     "output_type": "execute_result"
    }
   ],
   "source": [
    "# Primero le ordenamos y luego le damos la vuelta\n",
    "ordenado[:, ::-1] # todas las filas, todas las columnas, en pasos de -1"
   ]
  },
  {
   "cell_type": "markdown",
   "id": "c71dd271",
   "metadata": {},
   "source": [
    "\n",
    "\n",
    "### Cambio de Forma (`np.reshape()`)\n",
    "\n",
    "Permite reorganizar los elementos de un array en una nueva forma sin cambiar los datos subyacentes.\n",
    "\n"
   ]
  },
  {
   "cell_type": "code",
   "execution_count": 129,
   "id": "9b7f1ec5",
   "metadata": {},
   "outputs": [
    {
     "data": {
      "text/plain": [
       "array([1, 2, 3, 4, 5, 6])"
      ]
     },
     "execution_count": 129,
     "metadata": {},
     "output_type": "execute_result"
    }
   ],
   "source": [
    "# Reshape: método que cambia la forma de un array sin cambiar sus datos\n",
    "a = np.arange(1, 7) \n",
    "a"
   ]
  },
  {
   "cell_type": "code",
   "execution_count": 131,
   "id": "805c84b8",
   "metadata": {},
   "outputs": [
    {
     "data": {
      "text/plain": [
       "(6,)"
      ]
     },
     "execution_count": 131,
     "metadata": {},
     "output_type": "execute_result"
    }
   ],
   "source": [
    "a.shape"
   ]
  },
  {
   "cell_type": "code",
   "execution_count": 132,
   "id": "874b1ec6",
   "metadata": {},
   "outputs": [
    {
     "data": {
      "text/plain": [
       "array([[1, 2, 3],\n",
       "       [4, 5, 6]])"
      ]
     },
     "execution_count": 132,
     "metadata": {},
     "output_type": "execute_result"
    }
   ],
   "source": [
    "reshape_a = np.reshape(a, (2, 3))\n",
    "reshape_a"
   ]
  },
  {
   "cell_type": "code",
   "execution_count": 133,
   "id": "27f8aab2",
   "metadata": {},
   "outputs": [
    {
     "data": {
      "text/plain": [
       "(2, 3)"
      ]
     },
     "execution_count": 133,
     "metadata": {},
     "output_type": "execute_result"
    }
   ],
   "source": [
    "reshape_a.shape"
   ]
  },
  {
   "cell_type": "code",
   "execution_count": 134,
   "id": "9b2295f1",
   "metadata": {},
   "outputs": [
    {
     "data": {
      "text/plain": [
       "array([[1, 2],\n",
       "       [3, 4],\n",
       "       [5, 6]])"
      ]
     },
     "execution_count": 134,
     "metadata": {},
     "output_type": "execute_result"
    }
   ],
   "source": [
    "reshape_a2 = np.reshape(a, (3, 2))\n",
    "reshape_a2"
   ]
  },
  {
   "cell_type": "code",
   "execution_count": 135,
   "id": "a6db7f0d",
   "metadata": {},
   "outputs": [
    {
     "data": {
      "text/plain": [
       "(3, 2)"
      ]
     },
     "execution_count": 135,
     "metadata": {},
     "output_type": "execute_result"
    }
   ],
   "source": [
    "reshape_a2.shape"
   ]
  },
  {
   "cell_type": "code",
   "execution_count": 136,
   "id": "cbc40c56",
   "metadata": {},
   "outputs": [
    {
     "data": {
      "text/plain": [
       "array([[1, 2, 3],\n",
       "       [4, 5, 6]])"
      ]
     },
     "execution_count": 136,
     "metadata": {},
     "output_type": "execute_result"
    }
   ],
   "source": [
    "reshape_a3 = reshape_a2.reshape(2, 3)\n",
    "reshape_a3"
   ]
  },
  {
   "cell_type": "code",
   "execution_count": null,
   "id": "d5c2275b",
   "metadata": {},
   "outputs": [
    {
     "ename": "ValueError",
     "evalue": "cannot reshape array of size 6 into shape (4,2)",
     "output_type": "error",
     "traceback": [
      "\u001b[0;31m---------------------------------------------------------------------------\u001b[0m",
      "\u001b[0;31mValueError\u001b[0m                                Traceback (most recent call last)",
      "Cell \u001b[0;32mIn[137], line 1\u001b[0m\n\u001b[0;32m----> 1\u001b[0m reshape_a4 \u001b[38;5;241m=\u001b[39m reshape_a3\u001b[38;5;241m.\u001b[39mreshape(\u001b[38;5;241m4\u001b[39m, \u001b[38;5;241m2\u001b[39m)\n\u001b[1;32m      2\u001b[0m reshape_a4\n",
      "\u001b[0;31mValueError\u001b[0m: cannot reshape array of size 6 into shape (4,2)"
     ]
    }
   ],
   "source": [
    "# El número de elementos tiene que coincidir con la forma del array!!!\n",
    "reshape_a4 = reshape_a3.reshape(4, 2) \n",
    "reshape_a4"
   ]
  },
  {
   "cell_type": "markdown",
   "id": "49767099",
   "metadata": {},
   "source": [
    "\n",
    "\n",
    "### Aplanamiento (`np.flatten()`)\n",
    "\n",
    "Convierte un array multidimensional en un array unidimensional, colocando todos los elementos en una sola dimensión.\n",
    "\n"
   ]
  },
  {
   "cell_type": "code",
   "execution_count": 138,
   "id": "d239aa5e",
   "metadata": {},
   "outputs": [
    {
     "data": {
      "text/plain": [
       "array([[1, 2, 3],\n",
       "       [4, 5, 6]])"
      ]
     },
     "execution_count": 138,
     "metadata": {},
     "output_type": "execute_result"
    }
   ],
   "source": [
    "# Flatten: convierte un array multidimensional en un array unidimensional: aplana el array\n",
    "reshape_a3"
   ]
  },
  {
   "cell_type": "code",
   "execution_count": 139,
   "id": "48db2f04",
   "metadata": {},
   "outputs": [
    {
     "data": {
      "text/plain": [
       "array([1, 2, 3, 4, 5, 6])"
      ]
     },
     "execution_count": 139,
     "metadata": {},
     "output_type": "execute_result"
    }
   ],
   "source": [
    "reshape_a3.flatten()"
   ]
  },
  {
   "cell_type": "code",
   "execution_count": null,
   "id": "bde64983",
   "metadata": {},
   "outputs": [],
   "source": [
    "# Al convertir un array multidimensional en un array unidimensional, se puede acceder a todos los elementos de manera secuencial, \n",
    "# lo que facilita su procesamiento mediante operaciones de iteración, filtrado, ordenamiento u otras manipulaciones de datos."
   ]
  }
 ],
 "metadata": {
  "kernelspec": {
   "display_name": "base",
   "language": "python",
   "name": "python3"
  },
  "language_info": {
   "codemirror_mode": {
    "name": "ipython",
    "version": 3
   },
   "file_extension": ".py",
   "mimetype": "text/x-python",
   "name": "python",
   "nbconvert_exporter": "python",
   "pygments_lexer": "ipython3",
   "version": "3.11.9"
  }
 },
 "nbformat": 4,
 "nbformat_minor": 5
}
